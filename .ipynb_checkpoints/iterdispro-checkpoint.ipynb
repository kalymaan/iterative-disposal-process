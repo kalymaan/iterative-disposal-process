{
 "cells": [
  {
   "cell_type": "markdown",
   "id": "9655f93c-cd11-4f3c-b713-cb7591f9ffef",
   "metadata": {},
   "source": [
    "Trying out Jordan's Iterative disposal process"
   ]
  },
  {
   "cell_type": "code",
   "execution_count": 1,
   "id": "c875a9bf-d3ae-45de-a031-bd68dc8859da",
   "metadata": {},
   "outputs": [],
   "source": [
    "n = 3 # number of positive integers in set"
   ]
  },
  {
   "cell_type": "code",
   "execution_count": 2,
   "id": "3983a70a-9cbe-403d-b16a-c544d09992c7",
   "metadata": {},
   "outputs": [],
   "source": [
    "original_set = set(range(1,n+1)) #create set, given n\n",
    "os = set(range(1,3)) # n=2"
   ]
  },
  {
   "cell_type": "code",
   "execution_count": 3,
   "id": "8fa7e3be-ffe3-4620-b699-5b3f19acda04",
   "metadata": {},
   "outputs": [
    {
     "name": "stdout",
     "output_type": "stream",
     "text": [
      "{1, 2, 3}\n"
     ]
    }
   ],
   "source": [
    "print(original_set)"
   ]
  },
  {
   "cell_type": "code",
   "execution_count": 4,
   "id": "a5c41998-bab7-4b14-90e7-0da931ad0db2",
   "metadata": {},
   "outputs": [
    {
     "data": {
      "text/plain": [
       "{1, 2}"
      ]
     },
     "execution_count": 4,
     "metadata": {},
     "output_type": "execute_result"
    }
   ],
   "source": [
    "os"
   ]
  },
  {
   "cell_type": "code",
   "execution_count": 5,
   "id": "a94d8ad7-af1d-41fb-942c-629cae042100",
   "metadata": {},
   "outputs": [],
   "source": [
    "import itertools\n",
    "permList = list(itertools.product(original_set, repeat = n))\n",
    "permutList = list(itertools.product(os, repeat = 2))"
   ]
  },
  {
   "cell_type": "code",
   "execution_count": 6,
   "id": "9273c152-d2a6-45b5-990d-e323323ff9e0",
   "metadata": {},
   "outputs": [
    {
     "data": {
      "text/plain": [
       "[(1, 1, 1),\n",
       " (1, 1, 2),\n",
       " (1, 1, 3),\n",
       " (1, 2, 1),\n",
       " (1, 2, 2),\n",
       " (1, 2, 3),\n",
       " (1, 3, 1),\n",
       " (1, 3, 2),\n",
       " (1, 3, 3),\n",
       " (2, 1, 1),\n",
       " (2, 1, 2),\n",
       " (2, 1, 3),\n",
       " (2, 2, 1),\n",
       " (2, 2, 2),\n",
       " (2, 2, 3),\n",
       " (2, 3, 1),\n",
       " (2, 3, 2),\n",
       " (2, 3, 3),\n",
       " (3, 1, 1),\n",
       " (3, 1, 2),\n",
       " (3, 1, 3),\n",
       " (3, 2, 1),\n",
       " (3, 2, 2),\n",
       " (3, 2, 3),\n",
       " (3, 3, 1),\n",
       " (3, 3, 2),\n",
       " (3, 3, 3)]"
      ]
     },
     "execution_count": 6,
     "metadata": {},
     "output_type": "execute_result"
    }
   ],
   "source": [
    "permList"
   ]
  },
  {
   "cell_type": "code",
   "execution_count": 7,
   "id": "8ebd65c7-3354-4023-8cb8-88275d56525d",
   "metadata": {},
   "outputs": [
    {
     "data": {
      "text/plain": [
       "[(1, 1), (1, 2), (2, 1), (2, 2)]"
      ]
     },
     "execution_count": 7,
     "metadata": {},
     "output_type": "execute_result"
    }
   ],
   "source": [
    "permutList"
   ]
  },
  {
   "cell_type": "code",
   "execution_count": 8,
   "id": "dcbc30f1-3a2b-4fd8-9f72-c5a6b6ad797b",
   "metadata": {},
   "outputs": [],
   "source": [
    "def isEven(x):\n",
    "    return (x%2)==0"
   ]
  },
  {
   "cell_type": "code",
   "execution_count": 9,
   "id": "4b2de5f9-d0dc-4d1d-ab10-96b27a4ba025",
   "metadata": {},
   "outputs": [],
   "source": [
    "def filter_repeated_evens(permutationList):\n",
    "    disposal_list = []\n",
    "    for tup in permutationList: # going through each \"set\"(its a tuple) in the list\n",
    "        s = 0 # integer storage / reset\n",
    "        acceptable = True # reset acceptable switch\n",
    "        for num in tup: # iterating through each integer in the tuple\n",
    "            if isEven(num): # if even,\n",
    "                if num == s:\n",
    "                    acceptable = False\n",
    "                    break # if the even number is repeated, break out of this tuple, it's not included\n",
    "                s = num # set even number to storage\n",
    "            \n",
    "        if acceptable:\n",
    "            disposal_list.append(tup) # add acceptable tuples into list\n",
    "\n",
    "    return disposal_list\n",
    "    "
   ]
  },
  {
   "cell_type": "code",
   "execution_count": 10,
   "id": "dcdb2912-c612-46b8-8f81-d759441bb1ff",
   "metadata": {
    "scrolled": true
   },
   "outputs": [
    {
     "data": {
      "text/plain": [
       "[(1, 1, 1),\n",
       " (1, 1, 2),\n",
       " (1, 1, 3),\n",
       " (1, 2, 1),\n",
       " (1, 2, 3),\n",
       " (1, 3, 1),\n",
       " (1, 3, 2),\n",
       " (1, 3, 3),\n",
       " (2, 1, 1),\n",
       " (2, 1, 3),\n",
       " (2, 3, 1),\n",
       " (2, 3, 3),\n",
       " (3, 1, 1),\n",
       " (3, 1, 2),\n",
       " (3, 1, 3),\n",
       " (3, 2, 1),\n",
       " (3, 2, 3),\n",
       " (3, 3, 1),\n",
       " (3, 3, 2),\n",
       " (3, 3, 3)]"
      ]
     },
     "execution_count": 10,
     "metadata": {},
     "output_type": "execute_result"
    }
   ],
   "source": [
    "dispList = filter_repeated_evens(permList)\n",
    "dispList"
   ]
  },
  {
   "cell_type": "code",
   "execution_count": 11,
   "id": "bcd14762-e0ff-48e9-8ae0-1cf084046ee8",
   "metadata": {},
   "outputs": [
    {
     "data": {
      "text/plain": [
       "[(1, 1), (1, 2), (2, 1)]"
      ]
     },
     "execution_count": 11,
     "metadata": {},
     "output_type": "execute_result"
    }
   ],
   "source": [
    "d = filter_repeated_evens(permutList)\n",
    "d"
   ]
  },
  {
   "cell_type": "code",
   "execution_count": 12,
   "id": "69718f46-8003-40d5-a464-e621fb9b9755",
   "metadata": {},
   "outputs": [
    {
     "data": {
      "text/plain": [
       "20"
      ]
     },
     "execution_count": 12,
     "metadata": {},
     "output_type": "execute_result"
    }
   ],
   "source": [
    "len(dispList)"
   ]
  },
  {
   "cell_type": "code",
   "execution_count": 13,
   "id": "f218c674-e62f-4e4c-a73e-4ccfb9f8f2c6",
   "metadata": {},
   "outputs": [],
   "source": [
    "def get_resultant_sets(post_disposal_list, original_set):\n",
    "    resultant_set_list=[]\n",
    "    for tup in post_disposal_list:\n",
    "        resultant_set = original_set.copy()\n",
    "        for num in tup:\n",
    "            if isEven(num):\n",
    "                resultant_set.discard(num)      \n",
    "        resultant_set_list.append(resultant_set)\n",
    "    return resultant_set_list\n",
    "    "
   ]
  },
  {
   "cell_type": "code",
   "execution_count": 14,
   "id": "28e14e85-a3f6-412d-98d4-2879ecb2649c",
   "metadata": {},
   "outputs": [],
   "source": [
    "result_sets = get_resultant_sets(dispList, original_set)"
   ]
  },
  {
   "cell_type": "code",
   "execution_count": 15,
   "id": "ea38e9da-be9a-4c55-824a-d4dec0aa67f3",
   "metadata": {
    "scrolled": true
   },
   "outputs": [
    {
     "data": {
      "text/plain": [
       "[{1, 2, 3},\n",
       " {1, 3},\n",
       " {1, 2, 3},\n",
       " {1, 3},\n",
       " {1, 3},\n",
       " {1, 2, 3},\n",
       " {1, 3},\n",
       " {1, 2, 3},\n",
       " {1, 3},\n",
       " {1, 3},\n",
       " {1, 3},\n",
       " {1, 3},\n",
       " {1, 2, 3},\n",
       " {1, 3},\n",
       " {1, 2, 3},\n",
       " {1, 3},\n",
       " {1, 3},\n",
       " {1, 2, 3},\n",
       " {1, 3},\n",
       " {1, 2, 3}]"
      ]
     },
     "execution_count": 15,
     "metadata": {},
     "output_type": "execute_result"
    }
   ],
   "source": [
    "result_sets"
   ]
  },
  {
   "cell_type": "code",
   "execution_count": 16,
   "id": "da9a5b85-ebbb-49d9-a1b1-87964eac7693",
   "metadata": {},
   "outputs": [],
   "source": [
    "def get_prob_even(resultant_set_list):\n",
    "    prob_evens=[]\n",
    "    for set in resultant_set_list:\n",
    "        num_evens = 0\n",
    "        for num in set:\n",
    "            if isEven(num):\n",
    "                num_evens += 1\n",
    "        probability_even = num_evens / len(set)\n",
    "        prob_evens.append(probability_even)\n",
    "    return prob_evens"
   ]
  },
  {
   "cell_type": "code",
   "execution_count": 17,
   "id": "8abdc2eb-cf67-425e-96a1-6eded547c947",
   "metadata": {
    "scrolled": true
   },
   "outputs": [
    {
     "data": {
      "text/plain": [
       "[0.3333333333333333,\n",
       " 0.0,\n",
       " 0.3333333333333333,\n",
       " 0.0,\n",
       " 0.0,\n",
       " 0.3333333333333333,\n",
       " 0.0,\n",
       " 0.3333333333333333,\n",
       " 0.0,\n",
       " 0.0,\n",
       " 0.0,\n",
       " 0.0,\n",
       " 0.3333333333333333,\n",
       " 0.0,\n",
       " 0.3333333333333333,\n",
       " 0.0,\n",
       " 0.0,\n",
       " 0.3333333333333333,\n",
       " 0.0,\n",
       " 0.3333333333333333]"
      ]
     },
     "execution_count": 17,
     "metadata": {},
     "output_type": "execute_result"
    }
   ],
   "source": [
    "prob_evens = get_prob_even(result_sets)\n",
    "prob_evens"
   ]
  },
  {
   "cell_type": "code",
   "execution_count": 18,
   "id": "3f6648d4-f42e-4b91-ad99-9112842513f7",
   "metadata": {},
   "outputs": [],
   "source": [
    "def get_prob_r(disposal_List):\n",
    "    probability_r_list=[]\n",
    "    \n",
    "    for tup in disposal_List:\n",
    "        length = len(tup)\n",
    "        number_prob = []\n",
    "        for num in tup:\n",
    "            if isEven(num):\n",
    "                prob = 1 / length\n",
    "                length -= 1\n",
    "            else:\n",
    "                prob = 1 / length\n",
    "            number_prob.append(prob)\n",
    "        #print(number_prob)\n",
    "        product = 1\n",
    "        for p in number_prob:\n",
    "            product *= p  \n",
    "        probability_r_list.append(product)\n",
    "    return probability_r_list"
   ]
  },
  {
   "cell_type": "code",
   "execution_count": 19,
   "id": "bebca84b-ec6c-41b6-bf6e-d2e5409a7d10",
   "metadata": {
    "scrolled": true
   },
   "outputs": [
    {
     "data": {
      "text/plain": [
       "[0.037037037037037035,\n",
       " 0.037037037037037035,\n",
       " 0.037037037037037035,\n",
       " 0.05555555555555555,\n",
       " 0.05555555555555555,\n",
       " 0.037037037037037035,\n",
       " 0.037037037037037035,\n",
       " 0.037037037037037035,\n",
       " 0.08333333333333333,\n",
       " 0.08333333333333333,\n",
       " 0.08333333333333333,\n",
       " 0.08333333333333333,\n",
       " 0.037037037037037035,\n",
       " 0.037037037037037035,\n",
       " 0.037037037037037035,\n",
       " 0.05555555555555555,\n",
       " 0.05555555555555555,\n",
       " 0.037037037037037035,\n",
       " 0.037037037037037035,\n",
       " 0.037037037037037035]"
      ]
     },
     "execution_count": 19,
     "metadata": {},
     "output_type": "execute_result"
    }
   ],
   "source": [
    "p_list = get_prob_r(dispList)\n",
    "p_list"
   ]
  },
  {
   "cell_type": "code",
   "execution_count": 20,
   "id": "b2f1875a-1a3a-491e-abd5-29b936c890d1",
   "metadata": {},
   "outputs": [
    {
     "name": "stdout",
     "output_type": "stream",
     "text": [
      "0.9999999999999998\n"
     ]
    }
   ],
   "source": [
    "s = 0\n",
    "for i in p_list:\n",
    "    s = s + i \n",
    "print(s)"
   ]
  },
  {
   "cell_type": "code",
   "execution_count": 32,
   "id": "bbbfcf90-6497-4a27-89f1-aa9f4d04b37f",
   "metadata": {},
   "outputs": [],
   "source": [
    "def get_solution(n):\n",
    "    \n",
    "    o_set = set(range(1,n+1)) #create set, given n\n",
    "\n",
    "    permuList = list(itertools.product(o_set, repeat = n)) # get list of all permutations\n",
    "\n",
    "    dispoList = filter_repeated_evens(permuList) # all possible events (permList with disposals)\n",
    "    #print(len(dispoList))\n",
    "\n",
    "    result_sets = get_resultant_sets(dispoList, o_set)\n",
    "    #print(result_sets)\n",
    "\n",
    "    p_even = get_prob_even(result_sets)\n",
    "    #print(p_even)\n",
    "    #print('\\n')\n",
    "    \n",
    "\n",
    "    p_r = get_prob_r(dispoList)\n",
    "    #print(p_r)\n",
    "    #print('\\n')\n",
    "    solution = 0\n",
    "    for i in range(len(p_even)):\n",
    "        x = p_even[i] * p_r[i]\n",
    "        solution += x\n",
    "    \n",
    "    return solution"
   ]
  },
  {
   "cell_type": "code",
   "execution_count": 33,
   "id": "70bd2f0d-5701-4ab8-aa55-a358c1ded740",
   "metadata": {},
   "outputs": [
    {
     "data": {
      "text/plain": [
       "0.09876543209876543"
      ]
     },
     "execution_count": 33,
     "metadata": {},
     "output_type": "execute_result"
    }
   ],
   "source": [
    "get_solution(3)"
   ]
  },
  {
   "cell_type": "code",
   "execution_count": 34,
   "id": "904d4a35-206f-4bde-8766-bf92163f8082",
   "metadata": {},
   "outputs": [
    {
     "data": {
      "text/plain": [
       "0.09876543209876543"
      ]
     },
     "execution_count": 34,
     "metadata": {},
     "output_type": "execute_result"
    }
   ],
   "source": [
    "8/81"
   ]
  },
  {
   "cell_type": "code",
   "execution_count": 35,
   "id": "3a673ead-7801-45e7-b3ec-865cce930686",
   "metadata": {},
   "outputs": [
    {
     "data": {
      "text/plain": [
       "0.125"
      ]
     },
     "execution_count": 35,
     "metadata": {},
     "output_type": "execute_result"
    }
   ],
   "source": [
    "get_solution(2)"
   ]
  },
  {
   "cell_type": "code",
   "execution_count": 36,
   "id": "80365adf-5602-4734-821a-e9c496c9e5a5",
   "metadata": {},
   "outputs": [
    {
     "data": {
      "text/plain": [
       "0.125"
      ]
     },
     "execution_count": 36,
     "metadata": {},
     "output_type": "execute_result"
    }
   ],
   "source": [
    "1/8"
   ]
  },
  {
   "cell_type": "code",
   "execution_count": 37,
   "id": "866f17ba-0610-493b-adf5-54c3f61da4a2",
   "metadata": {},
   "outputs": [
    {
     "data": {
      "text/plain": [
       "0.1662808641975309"
      ]
     },
     "execution_count": 37,
     "metadata": {},
     "output_type": "execute_result"
    }
   ],
   "source": [
    "get_solution(4)"
   ]
  },
  {
   "cell_type": "code",
   "execution_count": 42,
   "id": "11b66317-07a7-41aa-9ce7-3391d9327428",
   "metadata": {},
   "outputs": [
    {
     "name": "stdout",
     "output_type": "stream",
     "text": [
      "n = 1  :  solution = 0.0\n",
      "n = 2  :  solution = 0.125\n",
      "n = 3  :  solution = 0.09876543209876543\n",
      "n = 4  :  solution = 0.1662808641975309\n",
      "n = 5  :  solution = 0.13746712499999972\n",
      "n = 6  :  solution = 0.34321075000001716\n",
      "n = 7  :  solution = 0.27709711108874213\n",
      "n = 8  :  solution = 0.799610328432375\n"
     ]
    }
   ],
   "source": [
    "for i in range(8):\n",
    "    print('n = '+str((i+1))+'  :  solution = '+str(get_solution(i+1)))"
   ]
  },
  {
   "cell_type": "markdown",
   "id": "32142f96-7b0e-4a27-81a1-080fb693229c",
   "metadata": {},
   "source": [
    "# apparently n=6 onwards is incorrect. must be the filter function or something\n",
    "## once I fix it, i'm going to measure times, then try finding more cpu efficient solutions"
   ]
  }
 ],
 "metadata": {
  "kernelspec": {
   "display_name": "Python 3 (ipykernel)",
   "language": "python",
   "name": "python3"
  },
  "language_info": {
   "codemirror_mode": {
    "name": "ipython",
    "version": 3
   },
   "file_extension": ".py",
   "mimetype": "text/x-python",
   "name": "python",
   "nbconvert_exporter": "python",
   "pygments_lexer": "ipython3",
   "version": "3.10.12"
  }
 },
 "nbformat": 4,
 "nbformat_minor": 5
}
